{
 "cells": [
  {
   "cell_type": "code",
   "execution_count": 0,
   "metadata": {
    "application/vnd.databricks.v1+cell": {
     "cellMetadata": {
      "byteLimit": 2048000,
      "rowLimit": 10000
     },
     "inputWidgets": {},
     "nuid": "8900d0a9-f544-4ac5-b34f-27bdf87fbc6f",
     "showTitle": false,
     "title": ""
    }
   },
   "outputs": [
    {
     "output_type": "stream",
     "name": "stdout",
     "output_type": "stream",
     "text": [
      "root\n |-- Region: string (nullable = true)\n |-- Country: string (nullable = true)\n |-- Item Type: string (nullable = true)\n |-- Sales Channel: string (nullable = true)\n |-- Order Priority: string (nullable = true)\n |-- Order Date: date (nullable = true)\n |-- Order ID: integer (nullable = true)\n |-- Ship Date: date (nullable = true)\n |-- Units Sold: integer (nullable = true)\n |-- Unit Price: double (nullable = true)\n |-- Unit Cost: double (nullable = true)\n |-- Total Revenue: double (nullable = true)\n |-- Total Cost: double (nullable = true)\n |-- Total Profit: double (nullable = true)\n\n+--------------------+------------+---------------+-------------+--------------+----------+---------+----------+----------+----------+---------+-------------+----------+------------+\n|              Region|     Country|      Item Type|Sales Channel|Order Priority|Order Date| Order ID| Ship Date|Units Sold|Unit Price|Unit Cost|Total Revenue|Total Cost|Total Profit|\n+--------------------+------------+---------------+-------------+--------------+----------+---------+----------+----------+----------+---------+-------------+----------+------------+\n|Australia and Oce...|       Palau|Office Supplies|       Online|             H|2016-03-06|517073523|2016-03-26|      2401|    651.21|   524.96|   1563555.21|1260428.96|   303126.25|\n|              Europe|      Poland|      Beverages|       Online|             L|2010-04-18|380507028|2010-05-26|      9340|     47.45|    31.79|     443183.0|  296918.6|    146264.4|\n|       North America|      Canada|         Cereal|       Online|             M|2015-01-08|504055583|2015-01-31|       103|     205.7|   117.11|      21187.1|  12062.33|     9124.77|\n|              Europe|     Belarus|         Snacks|       Online|             C|2014-01-19|954955518|2014-02-27|      1414|    152.58|    97.44|    215748.12| 137780.16|    77967.96|\n|Middle East and N...|        Oman|         Cereal|      Offline|             H|2019-04-26|970755660|2019-06-02|      7027|     205.7|   117.11|    1445453.9| 822931.97|   622521.93|\n|  Sub-Saharan Africa|Burkina Faso|Office Supplies|       Online|             C|2012-03-03|309317338|2012-04-05|      2729|    651.21|   524.96|   1777152.09|1432615.84|   344536.25|\n|              Europe|  Montenegro|  Personal Care|       Online|             H|2012-11-24|598814380|2012-12-25|      1337|     81.73|    56.67|    109273.01|  75767.79|    33505.22|\n|Middle East and N...|  Azerbaijan|      Cosmetics|      Offline|             M|2011-03-18|387733113|2011-05-05|      7699|     437.2|   263.33|    3366002.8|2027377.67|  1338625.13|\n|  Sub-Saharan Africa| South Sudan|        Clothes|      Offline|             C|2014-05-10|994872367|2014-06-17|      3696|    109.28|    35.84|    403898.88| 132464.64|   271434.24|\n|       North America|   Greenland|  Personal Care|       Online|             C|2020-05-25|659343469|2020-06-14|      3239|     81.73|    56.67|    264723.47| 183554.13|    81169.34|\n+--------------------+------------+---------------+-------------+--------------+----------+---------+----------+----------+----------+---------+-------------+----------+------------+\nonly showing top 10 rows\n\n"
     ]
    }
   ],
   "source": [
    "# Lendo o arquivo CSV com Spark\n",
    "df = spark.read.csv('/FileStore/tables/vendas.csv', header=True, inferSchema=True)\n",
    "\n",
    "# Verificando o esquema do DataFrame\n",
    "df.printSchema()\n",
    "\n",
    "# Mostrando as primeiras linhas para validar o formato dos dados\n",
    "df.show(10)\n"
   ]
  },
  {
   "cell_type": "code",
   "execution_count": 0,
   "metadata": {
    "application/vnd.databricks.v1+cell": {
     "cellMetadata": {
      "byteLimit": 2048000,
      "rowLimit": 10000
     },
     "inputWidgets": {},
     "nuid": "a6028c85-f180-4e2b-91ee-7892ca37af05",
     "showTitle": false,
     "title": ""
    }
   },
   "outputs": [],
   "source": [
    "# Importando as bibliotecas necessárias\n",
    "from pyspark.sql import SparkSession\n",
    "from pyspark.sql import functions as F\n",
    "\n",
    "# Criando uma Spark session\n",
    "spark = SparkSession.builder \\\n",
    "    .appName(\"Processamento de Vendas\") \\\n",
    "    .getOrCreate()"
   ]
  },
  {
   "cell_type": "code",
   "execution_count": 0,
   "metadata": {
    "application/vnd.databricks.v1+cell": {
     "cellMetadata": {
      "byteLimit": 2048000,
      "rowLimit": 10000
     },
     "inputWidgets": {},
     "nuid": "5e5afd21-c691-42fe-a8b3-cddb37fe2898",
     "showTitle": false,
     "title": ""
    }
   },
   "outputs": [
    {
     "output_type": "stream",
     "name": "stdout",
     "output_type": "stream",
     "text": [
      "root\n |-- Region: string (nullable = true)\n |-- Country: string (nullable = true)\n |-- Item Type: string (nullable = true)\n |-- Sales Channel: string (nullable = true)\n |-- Order Priority: string (nullable = true)\n |-- Order Date: date (nullable = true)\n |-- Order ID: integer (nullable = true)\n |-- Ship Date: date (nullable = true)\n |-- Units Sold: integer (nullable = true)\n |-- Unit Price: double (nullable = true)\n |-- Unit Cost: double (nullable = true)\n |-- Total Revenue: double (nullable = true)\n |-- Total Cost: double (nullable = true)\n |-- Total Profit: double (nullable = true)\n\n+--------------------+-------+---------------+-------------+--------------+----------+---------+----------+----------+----------+---------+-------------+----------+------------+\n|              Region|Country|      Item Type|Sales Channel|Order Priority|Order Date| Order ID| Ship Date|Units Sold|Unit Price|Unit Cost|Total Revenue|Total Cost|Total Profit|\n+--------------------+-------+---------------+-------------+--------------+----------+---------+----------+----------+----------+---------+-------------+----------+------------+\n|Australia and Oce...|  Palau|Office Supplies|       Online|             H|2016-03-06|517073523|2016-03-26|      2401|    651.21|   524.96|   1563555.21|1260428.96|   303126.25|\n|              Europe| Poland|      Beverages|       Online|             L|2010-04-18|380507028|2010-05-26|      9340|     47.45|    31.79|     443183.0|  296918.6|    146264.4|\n|       North America| Canada|         Cereal|       Online|             M|2015-01-08|504055583|2015-01-31|       103|     205.7|   117.11|      21187.1|  12062.33|     9124.77|\n|              Europe|Belarus|         Snacks|       Online|             C|2014-01-19|954955518|2014-02-27|      1414|    152.58|    97.44|    215748.12| 137780.16|    77967.96|\n|Middle East and N...|   Oman|         Cereal|      Offline|             H|2019-04-26|970755660|2019-06-02|      7027|     205.7|   117.11|    1445453.9| 822931.97|   622521.93|\n+--------------------+-------+---------------+-------------+--------------+----------+---------+----------+----------+----------+---------+-------------+----------+------------+\nonly showing top 5 rows\n\n"
     ]
    }
   ],
   "source": [
    "# Lendo o arquivo CSV\n",
    "file_path = '/FileStore/tables/vendas.csv'\n",
    "df = spark.read.csv(file_path, header=True, inferSchema=True)\n",
    "\n",
    "# Verificando o esquema do DataFrame\n",
    "df.printSchema()\n",
    "\n",
    "# Mostrando as primeiras linhas para validar o formato dos dados\n",
    "df.show(5)\n"
   ]
  },
  {
   "cell_type": "code",
   "execution_count": 0,
   "metadata": {
    "application/vnd.databricks.v1+cell": {
     "cellMetadata": {
      "byteLimit": 2048000,
      "rowLimit": 10000
     },
     "inputWidgets": {},
     "nuid": "31da1bab-8b8c-4202-accb-35fcdc31eb03",
     "showTitle": false,
     "title": ""
    }
   },
   "outputs": [
    {
     "output_type": "stream",
     "name": "stdout",
     "output_type": "stream",
     "text": [
      "+---------+-------------+-------------+\n|Item Type|Sales Channel|total_vendido|\n+---------+-------------+-------------+\n|   Cereal|      Offline|   1044443977|\n+---------+-------------+-------------+\nonly showing top 1 row\n\n"
     ]
    }
   ],
   "source": [
    "# Limpando e preparando os dados\n",
    "df_clean = df.dropna(subset=[\"Order Date\", \"Item Type\", \"Units Sold\", \"Unit Price\", \"Sales Channel\"])\n",
    "\n",
    "# Convertendo as colunas para o tipo apropriado\n",
    "df_clean = df_clean.withColumn(\"Units Sold\", df_clean[\"Units Sold\"].cast(\"int\")) \\\n",
    "                   .withColumn(\"Unit Price\", df_clean[\"Unit Price\"].cast(\"float\"))\n",
    "\n",
    "# Identificando o produto mais vendido em termos de quantidade e canal\n",
    "produto_mais_vendido_canaldf = df_clean.groupBy(\"Item Type\", \"Sales Channel\").agg(F.sum(\"Units Sold\").alias(\"total_vendido\"))\n",
    "produto_mais_vendido_canaldf = produto_mais_vendido_canaldf.orderBy(F.desc(\"total_vendido\"))\n",
    "produto_mais_vendido_canaldf.show(1)  # Mostra o produto mais vendido e o canal\n"
   ]
  },
  {
   "cell_type": "code",
   "execution_count": 0,
   "metadata": {
    "application/vnd.databricks.v1+cell": {
     "cellMetadata": {
      "byteLimit": 2048000,
      "rowLimit": 10000
     },
     "inputWidgets": {},
     "nuid": "af82a4ab-64e0-44b3-b429-996ba3f35dbd",
     "showTitle": false,
     "title": ""
    }
   },
   "outputs": [
    {
     "output_type": "stream",
     "name": "stdout",
     "output_type": "stream",
     "text": [
      "+-------+------------------+--------------------+\n|Country|            Region|        total_vendas|\n+-------+------------------+--------------------+\n| Rwanda|Sub-Saharan Africa|3.634388989878637E10|\n+-------+------------------+--------------------+\nonly showing top 1 row\n\n"
     ]
    }
   ],
   "source": [
    "# Calculando o valor da venda\n",
    "df_clean = df_clean.withColumn(\"valor_venda\", F.col(\"Units Sold\") * F.col(\"Unit Price\"))\n",
    "\n",
    "# Agrupando por país e região\n",
    "vendas_por_pais_regiao = df_clean.groupBy(\"Country\", \"Region\").agg(F.sum(\"valor_venda\").alias(\"total_vendas\"))\n",
    "\n",
    "# Ordenando para encontrar o país e região com maior volume de vendas\n",
    "vendas_por_pais_regiao = vendas_por_pais_regiao.orderBy(F.desc(\"total_vendas\"))\n",
    "vendas_por_pais_regiao.show(1)  # Mostra o país e a região com maior volume de vendas"
   ]
  },
  {
   "cell_type": "code",
   "execution_count": 0,
   "metadata": {
    "application/vnd.databricks.v1+cell": {
     "cellMetadata": {
      "byteLimit": 2048000,
      "rowLimit": 10000
     },
     "inputWidgets": {},
     "nuid": "e45b2aa7-d21b-48a7-9936-1a6cf3ed7acc",
     "showTitle": false,
     "title": ""
    }
   },
   "outputs": [
    {
     "output_type": "stream",
     "name": "stdout",
     "output_type": "stream",
     "text": [
      "+---------------+--------------------+\n|      Item Type|        media_mensal|\n+---------------+--------------------+\n|      Baby Food|4.1219792454741373E9|\n|         Cereal| 3.321895262874927E9|\n|           Meat|  6.81605948530933E9|\n|      Household|1.079328847352320...|\n|     Vegetables|2.4874873756124144E9|\n|      Beverages| 7.664228833949307E8|\n|Office Supplies|1.052364882462699...|\n|      Cosmetics| 7.061430971496025E9|\n|  Personal Care|1.3192387403278487E9|\n|         Fruits|1.5059955350336576E8|\n|         Snacks|2.4645035610805306E9|\n|        Clothes|1.7648439439181597E9|\n+---------------+--------------------+\n\n"
     ]
    }
   ],
   "source": [
    "# Extraindo mês e ano da coluna Order Date\n",
    "df_clean = df_clean.withColumn(\"Order Date\", F.to_date(\"Order Date\", \"MM/dd/yyyy\")) \\\n",
    "                   .withColumn(\"Year\", F.year(\"Order Date\")) \\\n",
    "                   .withColumn(\"Month\", F.month(\"Order Date\"))\n",
    "\n",
    "# Calculando as vendas mensais por produto\n",
    "media_vendas_mensais = df_clean.groupBy(\"Item Type\", \"Year\", \"Month\").agg(F.sum(\"valor_venda\").alias(\"total_vendas_mensais\"))\n",
    "media_vendas_mensais = media_vendas_mensais.groupBy(\"Item Type\").agg(F.avg(\"total_vendas_mensais\").alias(\"media_mensal\"))\n",
    "\n",
    "# Exibindo as médias de vendas mensais por produto\n",
    "media_vendas_mensais.show()"
   ]
  },
  {
   "cell_type": "code",
   "execution_count": 0,
   "metadata": {
    "application/vnd.databricks.v1+cell": {
     "cellMetadata": {
      "byteLimit": 2048000,
      "rowLimit": 10000
     },
     "inputWidgets": {},
     "nuid": "95dcb854-4f1c-4be8-b7c8-cb56913613a1",
     "showTitle": false,
     "title": ""
    }
   },
   "outputs": [
    {
     "output_type": "stream",
     "name": "stdout",
     "output_type": "stream",
     "text": [
      "1. Produto mais vendido:\nProduto: Cereal, Canal: Offline, Total vendido: 1044443977 unidades\n\n2. País e região com maior volume de vendas:\nPaís: Rwanda, Região: Sub-Saharan Africa, Total de vendas: R$36343889898.79\n\n3. Média de vendas mensais por produto:\nProduto: Baby Food, Média mensal: R$4121979245.47\nProduto: Cereal, Média mensal: R$3321895262.87\nProduto: Meat, Média mensal: R$6816059485.31\nProduto: Household, Média mensal: R$10793288473.52\nProduto: Vegetables, Média mensal: R$2487487375.61\nProduto: Beverages, Média mensal: R$766422883.39\nProduto: Office Supplies, Média mensal: R$10523648824.63\nProduto: Cosmetics, Média mensal: R$7061430971.50\nProduto: Personal Care, Média mensal: R$1319238740.33\nProduto: Fruits, Média mensal: R$150599553.50\nProduto: Snacks, Média mensal: R$2464503561.08\nProduto: Clothes, Média mensal: R$1764843943.92\n"
     ]
    }
   ],
   "source": [
    "# Resultados\n",
    "print(\"1. Produto mais vendido:\")\n",
    "produto_mais_vendido = produto_mais_vendido_canaldf.first()\n",
    "print(f\"Produto: {produto_mais_vendido['Item Type']}, Canal: {produto_mais_vendido['Sales Channel']}, Total vendido: {produto_mais_vendido['total_vendido']} unidades\")\n",
    "\n",
    "if 'Country' in df_clean.columns:\n",
    "    regiao_pais_maior_vendas = vendas_por_pais_regiao.first()\n",
    "    print(\"\\n2. País e região com maior volume de vendas:\")\n",
    "    print(f\"País: {regiao_pais_maior_vendas['Country']}, Região: {regiao_pais_maior_vendas['Region']}, Total de vendas: R${regiao_pais_maior_vendas['total_vendas']:.2f}\")\n",
    "\n",
    "print(\"\\n3. Média de vendas mensais por produto:\")\n",
    "for row in media_vendas_mensais.collect():\n",
    "    print(f\"Produto: {row['Item Type']}, Média mensal: R${row['media_mensal']:.2f}\")\n"
   ]
  }
 ],
 "metadata": {
  "application/vnd.databricks.v1+notebook": {
   "dashboards": [],
   "environmentMetadata": null,
   "language": "python",
   "notebookMetadata": {
    "pythonIndentUnit": 4
   },
   "notebookName": "Jump-teste-vendas",
   "widgets": {}
  }
 },
 "nbformat": 4,
 "nbformat_minor": 0
}
